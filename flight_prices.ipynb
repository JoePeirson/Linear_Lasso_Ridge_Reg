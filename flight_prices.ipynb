{
 "cells": [
  {
   "cell_type": "markdown",
   "metadata": {},
   "source": [
    "# Machine Learning Techniques to Reduce the Cost Function\n",
    "\n",
    "## Using a flight prices dataset"
   ]
  },
  {
   "cell_type": "code",
   "execution_count": 1,
   "metadata": {},
   "outputs": [],
   "source": [
    "import numpy as np\n",
    "import pandas as pd\n",
    "pd.set_option('display.max_columns', 8)\n",
    "import matplotlib.pyplot as plt\n",
    "%matplotlib inline\n",
    "import seaborn as sns\n",
    "import scipy.stats as stats\n",
    "import pylab\n",
    "from datetime import datetime\n",
    "\n",
    "import warnings\n",
    "warnings.simplefilter(\"ignore\")"
   ]
  },
  {
   "cell_type": "code",
   "execution_count": 2,
   "metadata": {},
   "outputs": [],
   "source": [
    "start = datetime.now()"
   ]
  },
  {
   "cell_type": "markdown",
   "metadata": {},
   "source": [
    "# Data Cleaning"
   ]
  },
  {
   "cell_type": "code",
   "execution_count": 3,
   "metadata": {},
   "outputs": [],
   "source": [
    "df = pd.read_excel('dataset', sheet_name='Sheet1')\n"
   ]
  },
  {
   "cell_type": "code",
   "execution_count": 4,
   "metadata": {},
   "outputs": [
    {
     "data": {
      "text/html": [
       "<div>\n",
       "<style scoped>\n",
       "    .dataframe tbody tr th:only-of-type {\n",
       "        vertical-align: middle;\n",
       "    }\n",
       "\n",
       "    .dataframe tbody tr th {\n",
       "        vertical-align: top;\n",
       "    }\n",
       "\n",
       "    .dataframe thead th {\n",
       "        text-align: right;\n",
       "    }\n",
       "</style>\n",
       "<table border=\"1\" class=\"dataframe\">\n",
       "  <thead>\n",
       "    <tr style=\"text-align: right;\">\n",
       "      <th></th>\n",
       "      <th>Airline</th>\n",
       "      <th>Date_of_Journey</th>\n",
       "      <th>Source</th>\n",
       "      <th>Destination</th>\n",
       "      <th>...</th>\n",
       "      <th>Duration</th>\n",
       "      <th>Total_Stops</th>\n",
       "      <th>Additional_Info</th>\n",
       "      <th>Price</th>\n",
       "    </tr>\n",
       "  </thead>\n",
       "  <tbody>\n",
       "    <tr>\n",
       "      <th>0</th>\n",
       "      <td>IndiGo</td>\n",
       "      <td>24/03/2019</td>\n",
       "      <td>Banglore</td>\n",
       "      <td>New Delhi</td>\n",
       "      <td>...</td>\n",
       "      <td>2h 50m</td>\n",
       "      <td>non-stop</td>\n",
       "      <td>No info</td>\n",
       "      <td>3897</td>\n",
       "    </tr>\n",
       "    <tr>\n",
       "      <th>1</th>\n",
       "      <td>Air India</td>\n",
       "      <td>1/05/2019</td>\n",
       "      <td>Kolkata</td>\n",
       "      <td>Banglore</td>\n",
       "      <td>...</td>\n",
       "      <td>7h 25m</td>\n",
       "      <td>2 stops</td>\n",
       "      <td>No info</td>\n",
       "      <td>7662</td>\n",
       "    </tr>\n",
       "    <tr>\n",
       "      <th>2</th>\n",
       "      <td>Jet Airways</td>\n",
       "      <td>9/06/2019</td>\n",
       "      <td>Delhi</td>\n",
       "      <td>Cochin</td>\n",
       "      <td>...</td>\n",
       "      <td>19h</td>\n",
       "      <td>2 stops</td>\n",
       "      <td>No info</td>\n",
       "      <td>13882</td>\n",
       "    </tr>\n",
       "    <tr>\n",
       "      <th>3</th>\n",
       "      <td>IndiGo</td>\n",
       "      <td>12/05/2019</td>\n",
       "      <td>Kolkata</td>\n",
       "      <td>Banglore</td>\n",
       "      <td>...</td>\n",
       "      <td>5h 25m</td>\n",
       "      <td>1 stop</td>\n",
       "      <td>No info</td>\n",
       "      <td>6218</td>\n",
       "    </tr>\n",
       "    <tr>\n",
       "      <th>4</th>\n",
       "      <td>IndiGo</td>\n",
       "      <td>01/03/2019</td>\n",
       "      <td>Banglore</td>\n",
       "      <td>New Delhi</td>\n",
       "      <td>...</td>\n",
       "      <td>4h 45m</td>\n",
       "      <td>1 stop</td>\n",
       "      <td>No info</td>\n",
       "      <td>13302</td>\n",
       "    </tr>\n",
       "  </tbody>\n",
       "</table>\n",
       "<p>5 rows × 11 columns</p>\n",
       "</div>"
      ],
      "text/plain": [
       "       Airline Date_of_Journey    Source Destination  ... Duration  \\\n",
       "0       IndiGo      24/03/2019  Banglore   New Delhi  ...   2h 50m   \n",
       "1    Air India       1/05/2019   Kolkata    Banglore  ...   7h 25m   \n",
       "2  Jet Airways       9/06/2019     Delhi      Cochin  ...      19h   \n",
       "3       IndiGo      12/05/2019   Kolkata    Banglore  ...   5h 25m   \n",
       "4       IndiGo      01/03/2019  Banglore   New Delhi  ...   4h 45m   \n",
       "\n",
       "  Total_Stops Additional_Info  Price  \n",
       "0    non-stop         No info   3897  \n",
       "1     2 stops         No info   7662  \n",
       "2     2 stops         No info  13882  \n",
       "3      1 stop         No info   6218  \n",
       "4      1 stop         No info  13302  \n",
       "\n",
       "[5 rows x 11 columns]"
      ]
     },
     "execution_count": 4,
     "metadata": {},
     "output_type": "execute_result"
    }
   ],
   "source": [
    "df.head()"
   ]
  },
  {
   "cell_type": "code",
   "execution_count": 5,
   "metadata": {},
   "outputs": [
    {
     "name": "stdout",
     "output_type": "stream",
     "text": [
      "<class 'pandas.core.frame.DataFrame'>\n",
      "RangeIndex: 10683 entries, 0 to 10682\n",
      "Data columns (total 11 columns):\n",
      " #   Column           Non-Null Count  Dtype \n",
      "---  ------           --------------  ----- \n",
      " 0   Airline          10683 non-null  object\n",
      " 1   Date_of_Journey  10683 non-null  object\n",
      " 2   Source           10683 non-null  object\n",
      " 3   Destination      10683 non-null  object\n",
      " 4   Route            10682 non-null  object\n",
      " 5   Dep_Time         10683 non-null  object\n",
      " 6   Arrival_Time     10683 non-null  object\n",
      " 7   Duration         10683 non-null  object\n",
      " 8   Total_Stops      10682 non-null  object\n",
      " 9   Additional_Info  10683 non-null  object\n",
      " 10  Price            10683 non-null  int64 \n",
      "dtypes: int64(1), object(10)\n",
      "memory usage: 918.2+ KB\n"
     ]
    }
   ],
   "source": [
    "df.info() "
   ]
  },
  {
   "cell_type": "code",
   "execution_count": 6,
   "metadata": {},
   "outputs": [],
   "source": [
    "df.dropna(inplace = True) #dropnull values"
   ]
  },
  {
   "cell_type": "code",
   "execution_count": 7,
   "metadata": {},
   "outputs": [],
   "source": [
    "def calculate_total_mins(column):\n",
    "    x_seps = column.split(' ')\n",
    "    total_mins = 0\n",
    "    for x_sep in x_seps:\n",
    "        if 'h' in x_sep: \n",
    "            total_mins = total_mins+float(x_sep.replace('h',''))*60\n",
    "        elif 'm' in x_sep:\n",
    "            total_mins = total_mins+float(x_sep.replace('m',''))\n",
    "    return total_mins"
   ]
  },
  {
   "cell_type": "code",
   "execution_count": 8,
   "metadata": {},
   "outputs": [],
   "source": [
    "df['flight_time'] = df['Duration'].apply(lambda x: calculate_total_mins(x))\n",
    "df['flight_date'] = pd.to_datetime(df['Date_of_Journey'],format='%d/%m/%Y').astype(int)"
   ]
  },
  {
   "cell_type": "code",
   "execution_count": 9,
   "metadata": {},
   "outputs": [],
   "source": [
    "df['stops'] = df['Total_Stops'].apply(lambda x: int(x[0].replace('n','0')))"
   ]
  },
  {
   "cell_type": "code",
   "execution_count": 10,
   "metadata": {},
   "outputs": [],
   "source": [
    "other_airlines = (df['Airline'].value_counts()\n",
    "                 .reset_index().query('abs(Airline) < {}'\n",
    "                .format(20))['index'].to_list())\n",
    "\n",
    "df['Airline'] = df['Airline'].apply(lambda x: 'Other' if x in other_airlines else x)"
   ]
  },
  {
   "cell_type": "code",
   "execution_count": 11,
   "metadata": {},
   "outputs": [
    {
     "data": {
      "text/html": [
       "<div>\n",
       "<style scoped>\n",
       "    .dataframe tbody tr th:only-of-type {\n",
       "        vertical-align: middle;\n",
       "    }\n",
       "\n",
       "    .dataframe tbody tr th {\n",
       "        vertical-align: top;\n",
       "    }\n",
       "\n",
       "    .dataframe thead th {\n",
       "        text-align: right;\n",
       "    }\n",
       "</style>\n",
       "<table border=\"1\" class=\"dataframe\">\n",
       "  <thead>\n",
       "    <tr style=\"text-align: right;\">\n",
       "      <th></th>\n",
       "      <th>Additional_Info</th>\n",
       "      <th>mean</th>\n",
       "      <th>count</th>\n",
       "    </tr>\n",
       "  </thead>\n",
       "  <tbody>\n",
       "    <tr>\n",
       "      <th>0</th>\n",
       "      <td>1 Long layover</td>\n",
       "      <td>22109.631579</td>\n",
       "      <td>19</td>\n",
       "    </tr>\n",
       "    <tr>\n",
       "      <th>1</th>\n",
       "      <td>1 Short layover</td>\n",
       "      <td>26743.000000</td>\n",
       "      <td>1</td>\n",
       "    </tr>\n",
       "    <tr>\n",
       "      <th>2</th>\n",
       "      <td>2 Long layover</td>\n",
       "      <td>26480.000000</td>\n",
       "      <td>1</td>\n",
       "    </tr>\n",
       "    <tr>\n",
       "      <th>3</th>\n",
       "      <td>Business class</td>\n",
       "      <td>56811.250000</td>\n",
       "      <td>4</td>\n",
       "    </tr>\n",
       "    <tr>\n",
       "      <th>4</th>\n",
       "      <td>Change airports</td>\n",
       "      <td>16800.714286</td>\n",
       "      <td>7</td>\n",
       "    </tr>\n",
       "    <tr>\n",
       "      <th>5</th>\n",
       "      <td>In-flight meal not included</td>\n",
       "      <td>9471.834511</td>\n",
       "      <td>1982</td>\n",
       "    </tr>\n",
       "    <tr>\n",
       "      <th>6</th>\n",
       "      <td>No Info</td>\n",
       "      <td>8044.666667</td>\n",
       "      <td>3</td>\n",
       "    </tr>\n",
       "    <tr>\n",
       "      <th>7</th>\n",
       "      <td>No check-in baggage included</td>\n",
       "      <td>3645.156250</td>\n",
       "      <td>320</td>\n",
       "    </tr>\n",
       "    <tr>\n",
       "      <th>8</th>\n",
       "      <td>No info</td>\n",
       "      <td>9141.519295</td>\n",
       "      <td>8344</td>\n",
       "    </tr>\n",
       "    <tr>\n",
       "      <th>9</th>\n",
       "      <td>Red-eye flight</td>\n",
       "      <td>10873.000000</td>\n",
       "      <td>1</td>\n",
       "    </tr>\n",
       "  </tbody>\n",
       "</table>\n",
       "</div>"
      ],
      "text/plain": [
       "                Additional_Info          mean  count\n",
       "0                1 Long layover  22109.631579     19\n",
       "1               1 Short layover  26743.000000      1\n",
       "2                2 Long layover  26480.000000      1\n",
       "3                Business class  56811.250000      4\n",
       "4               Change airports  16800.714286      7\n",
       "5   In-flight meal not included   9471.834511   1982\n",
       "6                       No Info   8044.666667      3\n",
       "7  No check-in baggage included   3645.156250    320\n",
       "8                       No info   9141.519295   8344\n",
       "9                Red-eye flight  10873.000000      1"
      ]
     },
     "execution_count": 11,
     "metadata": {},
     "output_type": "execute_result"
    }
   ],
   "source": [
    "df.groupby(['Additional_Info'])['Price'].agg(['mean','count']).reset_index()"
   ]
  },
  {
   "cell_type": "code",
   "execution_count": 12,
   "metadata": {},
   "outputs": [],
   "source": [
    "# create seperate columns for certain Additional_Info values\n",
    "df['business_class'] = df['Additional_Info'].apply(lambda x: 1 if 'Business' in x else 0)\n",
    "df['no_baggage_check_in'] = df['Additional_Info'].apply(lambda x: 1 if 'No check-in baggage' in x else 0)\n",
    "df['no_meal'] = df['Additional_Info'].apply(lambda x: 1 if 'In-flight meal not included' in x else 0)\n",
    "df['long_layover'] = df['Additional_Info'].apply(lambda x: 1 if 'layover' in x else 0)"
   ]
  },
  {
   "cell_type": "code",
   "execution_count": 13,
   "metadata": {},
   "outputs": [],
   "source": [
    "df.drop(['Additional_Info','Date_of_Journey','Dep_Time','Arrival_Time',\n",
    "        'Total_Stops','Route','Duration'],1,inplace=True)\n",
    "\n",
    "# dep_time and dep_arrival both used for duration\n",
    "# total_stops and route both used for stops\n",
    "# additional_info largely unhelpful"
   ]
  },
  {
   "cell_type": "code",
   "execution_count": 14,
   "metadata": {},
   "outputs": [
    {
     "name": "stdout",
     "output_type": "stream",
     "text": [
      "(10682, 11)\n"
     ]
    },
    {
     "data": {
      "text/html": [
       "<div>\n",
       "<style scoped>\n",
       "    .dataframe tbody tr th:only-of-type {\n",
       "        vertical-align: middle;\n",
       "    }\n",
       "\n",
       "    .dataframe tbody tr th {\n",
       "        vertical-align: top;\n",
       "    }\n",
       "\n",
       "    .dataframe thead th {\n",
       "        text-align: right;\n",
       "    }\n",
       "</style>\n",
       "<table border=\"1\" class=\"dataframe\">\n",
       "  <thead>\n",
       "    <tr style=\"text-align: right;\">\n",
       "      <th></th>\n",
       "      <th>airline</th>\n",
       "      <th>source</th>\n",
       "      <th>destination</th>\n",
       "      <th>price</th>\n",
       "      <th>...</th>\n",
       "      <th>business_class</th>\n",
       "      <th>no_baggage_check_in</th>\n",
       "      <th>no_meal</th>\n",
       "      <th>long_layover</th>\n",
       "    </tr>\n",
       "  </thead>\n",
       "  <tbody>\n",
       "    <tr>\n",
       "      <th>0</th>\n",
       "      <td>IndiGo</td>\n",
       "      <td>Banglore</td>\n",
       "      <td>New Delhi</td>\n",
       "      <td>3897</td>\n",
       "      <td>...</td>\n",
       "      <td>0</td>\n",
       "      <td>0</td>\n",
       "      <td>0</td>\n",
       "      <td>0</td>\n",
       "    </tr>\n",
       "    <tr>\n",
       "      <th>1</th>\n",
       "      <td>Air India</td>\n",
       "      <td>Kolkata</td>\n",
       "      <td>Banglore</td>\n",
       "      <td>7662</td>\n",
       "      <td>...</td>\n",
       "      <td>0</td>\n",
       "      <td>0</td>\n",
       "      <td>0</td>\n",
       "      <td>0</td>\n",
       "    </tr>\n",
       "    <tr>\n",
       "      <th>2</th>\n",
       "      <td>Jet Airways</td>\n",
       "      <td>Delhi</td>\n",
       "      <td>Cochin</td>\n",
       "      <td>13882</td>\n",
       "      <td>...</td>\n",
       "      <td>0</td>\n",
       "      <td>0</td>\n",
       "      <td>0</td>\n",
       "      <td>0</td>\n",
       "    </tr>\n",
       "    <tr>\n",
       "      <th>3</th>\n",
       "      <td>IndiGo</td>\n",
       "      <td>Kolkata</td>\n",
       "      <td>Banglore</td>\n",
       "      <td>6218</td>\n",
       "      <td>...</td>\n",
       "      <td>0</td>\n",
       "      <td>0</td>\n",
       "      <td>0</td>\n",
       "      <td>0</td>\n",
       "    </tr>\n",
       "    <tr>\n",
       "      <th>4</th>\n",
       "      <td>IndiGo</td>\n",
       "      <td>Banglore</td>\n",
       "      <td>New Delhi</td>\n",
       "      <td>13302</td>\n",
       "      <td>...</td>\n",
       "      <td>0</td>\n",
       "      <td>0</td>\n",
       "      <td>0</td>\n",
       "      <td>0</td>\n",
       "    </tr>\n",
       "  </tbody>\n",
       "</table>\n",
       "<p>5 rows × 11 columns</p>\n",
       "</div>"
      ],
      "text/plain": [
       "       airline    source destination  price  ...  business_class  \\\n",
       "0       IndiGo  Banglore   New Delhi   3897  ...               0   \n",
       "1    Air India   Kolkata    Banglore   7662  ...               0   \n",
       "2  Jet Airways     Delhi      Cochin  13882  ...               0   \n",
       "3       IndiGo   Kolkata    Banglore   6218  ...               0   \n",
       "4       IndiGo  Banglore   New Delhi  13302  ...               0   \n",
       "\n",
       "   no_baggage_check_in  no_meal  long_layover  \n",
       "0                    0        0             0  \n",
       "1                    0        0             0  \n",
       "2                    0        0             0  \n",
       "3                    0        0             0  \n",
       "4                    0        0             0  \n",
       "\n",
       "[5 rows x 11 columns]"
      ]
     },
     "execution_count": 14,
     "metadata": {},
     "output_type": "execute_result"
    }
   ],
   "source": [
    "df.columns = [x.lower() for x in list(df.columns)]\n",
    "print(df.shape)\n",
    "df.head()\n",
    "# data_cleaning finished"
   ]
  },
  {
   "cell_type": "code",
   "execution_count": 15,
   "metadata": {},
   "outputs": [
    {
     "data": {
      "text/html": [
       "<div>\n",
       "<style scoped>\n",
       "    .dataframe tbody tr th:only-of-type {\n",
       "        vertical-align: middle;\n",
       "    }\n",
       "\n",
       "    .dataframe tbody tr th {\n",
       "        vertical-align: top;\n",
       "    }\n",
       "\n",
       "    .dataframe thead th {\n",
       "        text-align: right;\n",
       "    }\n",
       "</style>\n",
       "<table border=\"1\" class=\"dataframe\">\n",
       "  <thead>\n",
       "    <tr style=\"text-align: right;\">\n",
       "      <th></th>\n",
       "      <th>0</th>\n",
       "      <th>1</th>\n",
       "      <th>2</th>\n",
       "      <th>3</th>\n",
       "      <th>4</th>\n",
       "    </tr>\n",
       "  </thead>\n",
       "  <tbody>\n",
       "    <tr>\n",
       "      <th>airline</th>\n",
       "      <td>IndiGo</td>\n",
       "      <td>Air India</td>\n",
       "      <td>Jet Airways</td>\n",
       "      <td>IndiGo</td>\n",
       "      <td>IndiGo</td>\n",
       "    </tr>\n",
       "    <tr>\n",
       "      <th>source</th>\n",
       "      <td>Banglore</td>\n",
       "      <td>Kolkata</td>\n",
       "      <td>Delhi</td>\n",
       "      <td>Kolkata</td>\n",
       "      <td>Banglore</td>\n",
       "    </tr>\n",
       "    <tr>\n",
       "      <th>destination</th>\n",
       "      <td>New Delhi</td>\n",
       "      <td>Banglore</td>\n",
       "      <td>Cochin</td>\n",
       "      <td>Banglore</td>\n",
       "      <td>New Delhi</td>\n",
       "    </tr>\n",
       "  </tbody>\n",
       "</table>\n",
       "</div>"
      ],
      "text/plain": [
       "                     0          1            2         3          4\n",
       "airline         IndiGo  Air India  Jet Airways    IndiGo     IndiGo\n",
       "source        Banglore    Kolkata        Delhi   Kolkata   Banglore\n",
       "destination  New Delhi   Banglore       Cochin  Banglore  New Delhi"
      ]
     },
     "execution_count": 15,
     "metadata": {},
     "output_type": "execute_result"
    }
   ],
   "source": [
    "one_hot_encode_cols = df.dtypes[df.dtypes == np.object]  # filtering by string categoricals\n",
    "one_hot_encode_cols = one_hot_encode_cols.index.tolist()  # list of categorical fields\n",
    "\n",
    "df[one_hot_encode_cols].head().T"
   ]
  },
  {
   "cell_type": "code",
   "execution_count": 16,
   "metadata": {},
   "outputs": [],
   "source": [
    "df = pd.get_dummies(df, columns=one_hot_encode_cols, drop_first=True)"
   ]
  },
  {
   "cell_type": "code",
   "execution_count": 17,
   "metadata": {},
   "outputs": [
    {
     "data": {
      "text/html": [
       "<div>\n",
       "<style scoped>\n",
       "    .dataframe tbody tr th:only-of-type {\n",
       "        vertical-align: middle;\n",
       "    }\n",
       "\n",
       "    .dataframe tbody tr th {\n",
       "        vertical-align: top;\n",
       "    }\n",
       "\n",
       "    .dataframe thead th {\n",
       "        text-align: right;\n",
       "    }\n",
       "</style>\n",
       "<table border=\"1\" class=\"dataframe\">\n",
       "  <thead>\n",
       "    <tr style=\"text-align: right;\">\n",
       "      <th></th>\n",
       "      <th>price</th>\n",
       "      <th>flight_time</th>\n",
       "      <th>flight_date</th>\n",
       "      <th>stops</th>\n",
       "      <th>...</th>\n",
       "      <th>destination_Delhi</th>\n",
       "      <th>destination_Hyderabad</th>\n",
       "      <th>destination_Kolkata</th>\n",
       "      <th>destination_New Delhi</th>\n",
       "    </tr>\n",
       "  </thead>\n",
       "  <tbody>\n",
       "    <tr>\n",
       "      <th>0</th>\n",
       "      <td>3897</td>\n",
       "      <td>170.0</td>\n",
       "      <td>1553385600000000000</td>\n",
       "      <td>0</td>\n",
       "      <td>...</td>\n",
       "      <td>0</td>\n",
       "      <td>0</td>\n",
       "      <td>0</td>\n",
       "      <td>1</td>\n",
       "    </tr>\n",
       "    <tr>\n",
       "      <th>1</th>\n",
       "      <td>7662</td>\n",
       "      <td>445.0</td>\n",
       "      <td>1556668800000000000</td>\n",
       "      <td>2</td>\n",
       "      <td>...</td>\n",
       "      <td>0</td>\n",
       "      <td>0</td>\n",
       "      <td>0</td>\n",
       "      <td>0</td>\n",
       "    </tr>\n",
       "    <tr>\n",
       "      <th>2</th>\n",
       "      <td>13882</td>\n",
       "      <td>1140.0</td>\n",
       "      <td>1560038400000000000</td>\n",
       "      <td>2</td>\n",
       "      <td>...</td>\n",
       "      <td>0</td>\n",
       "      <td>0</td>\n",
       "      <td>0</td>\n",
       "      <td>0</td>\n",
       "    </tr>\n",
       "    <tr>\n",
       "      <th>3</th>\n",
       "      <td>6218</td>\n",
       "      <td>325.0</td>\n",
       "      <td>1557619200000000000</td>\n",
       "      <td>1</td>\n",
       "      <td>...</td>\n",
       "      <td>0</td>\n",
       "      <td>0</td>\n",
       "      <td>0</td>\n",
       "      <td>0</td>\n",
       "    </tr>\n",
       "    <tr>\n",
       "      <th>4</th>\n",
       "      <td>13302</td>\n",
       "      <td>285.0</td>\n",
       "      <td>1551398400000000000</td>\n",
       "      <td>1</td>\n",
       "      <td>...</td>\n",
       "      <td>0</td>\n",
       "      <td>0</td>\n",
       "      <td>0</td>\n",
       "      <td>1</td>\n",
       "    </tr>\n",
       "  </tbody>\n",
       "</table>\n",
       "<p>5 rows × 25 columns</p>\n",
       "</div>"
      ],
      "text/plain": [
       "   price  flight_time          flight_date  stops  ...  destination_Delhi  \\\n",
       "0   3897        170.0  1553385600000000000      0  ...                  0   \n",
       "1   7662        445.0  1556668800000000000      2  ...                  0   \n",
       "2  13882       1140.0  1560038400000000000      2  ...                  0   \n",
       "3   6218        325.0  1557619200000000000      1  ...                  0   \n",
       "4  13302        285.0  1551398400000000000      1  ...                  0   \n",
       "\n",
       "   destination_Hyderabad  destination_Kolkata  destination_New Delhi  \n",
       "0                      0                    0                      1  \n",
       "1                      0                    0                      0  \n",
       "2                      0                    0                      0  \n",
       "3                      0                    0                      0  \n",
       "4                      0                    0                      1  \n",
       "\n",
       "[5 rows x 25 columns]"
      ]
     },
     "execution_count": 17,
     "metadata": {},
     "output_type": "execute_result"
    }
   ],
   "source": [
    "df.head()"
   ]
  },
  {
   "cell_type": "markdown",
   "metadata": {},
   "source": [
    "# Feature Engineering"
   ]
  },
  {
   "cell_type": "code",
   "execution_count": 18,
   "metadata": {},
   "outputs": [],
   "source": [
    "before = df.copy()"
   ]
  },
  {
   "cell_type": "code",
   "execution_count": 19,
   "metadata": {},
   "outputs": [
    {
     "name": "stdout",
     "output_type": "stream",
     "text": [
      "Number of rows before: 10682\n",
      "Number of rows after: 10533\n"
     ]
    },
    {
     "data": {
      "image/png": "[encoded data removed]",
      "text/plain": [
       "<Figure size 432x288 with 2 Axes>"
      ]
     },
     "metadata": {
      "needs_background": "light"
     },
     "output_type": "display_data"
    }
   ],
   "source": [
    "print(\"Number of rows before:\", before.shape[0])\n",
    "df = df.loc[(df['price'] <= 20000) & (df['flight_time']>60)]\n",
    "print(\"Number of rows after:\", df.shape[0])\n",
    "\n",
    "fig, axes = plt.subplots(1, 2)\n",
    "axes[0].set_title('histogram for prices before')\n",
    "axes[1].set_title('histogram for prices after')\n",
    "\n",
    "before['price'].hist(ax=axes[0])\n",
    "df['price'].hist(ax=axes[1])\n",
    "None"
   ]
  },
  {
   "cell_type": "markdown",
   "metadata": {},
   "source": [
    "#### Dealing with Skew Variables\n"
   ]
  },
  {
   "cell_type": "code",
   "execution_count": 20,
   "metadata": {},
   "outputs": [
    {
     "data": {
      "text/html": [
       "<div>\n",
       "<style scoped>\n",
       "    .dataframe tbody tr th:only-of-type {\n",
       "        vertical-align: middle;\n",
       "    }\n",
       "\n",
       "    .dataframe tbody tr th {\n",
       "        vertical-align: top;\n",
       "    }\n",
       "\n",
       "    .dataframe thead th {\n",
       "        text-align: right;\n",
       "    }\n",
       "</style>\n",
       "<table border=\"1\" class=\"dataframe\">\n",
       "  <thead>\n",
       "    <tr style=\"text-align: right;\">\n",
       "      <th></th>\n",
       "      <th>price</th>\n",
       "      <th>flight_time</th>\n",
       "      <th>flight_date</th>\n",
       "      <th>stops</th>\n",
       "      <th>...</th>\n",
       "      <th>destination_Delhi</th>\n",
       "      <th>destination_Hyderabad</th>\n",
       "      <th>destination_Kolkata</th>\n",
       "      <th>destination_New Delhi</th>\n",
       "    </tr>\n",
       "  </thead>\n",
       "  <tbody>\n",
       "    <tr>\n",
       "      <th>0</th>\n",
       "      <td>3897</td>\n",
       "      <td>170.0</td>\n",
       "      <td>1553385600000000000</td>\n",
       "      <td>0</td>\n",
       "      <td>...</td>\n",
       "      <td>0</td>\n",
       "      <td>0</td>\n",
       "      <td>0</td>\n",
       "      <td>1</td>\n",
       "    </tr>\n",
       "    <tr>\n",
       "      <th>1</th>\n",
       "      <td>7662</td>\n",
       "      <td>445.0</td>\n",
       "      <td>1556668800000000000</td>\n",
       "      <td>2</td>\n",
       "      <td>...</td>\n",
       "      <td>0</td>\n",
       "      <td>0</td>\n",
       "      <td>0</td>\n",
       "      <td>0</td>\n",
       "    </tr>\n",
       "    <tr>\n",
       "      <th>2</th>\n",
       "      <td>13882</td>\n",
       "      <td>1140.0</td>\n",
       "      <td>1560038400000000000</td>\n",
       "      <td>2</td>\n",
       "      <td>...</td>\n",
       "      <td>0</td>\n",
       "      <td>0</td>\n",
       "      <td>0</td>\n",
       "      <td>0</td>\n",
       "    </tr>\n",
       "    <tr>\n",
       "      <th>3</th>\n",
       "      <td>6218</td>\n",
       "      <td>325.0</td>\n",
       "      <td>1557619200000000000</td>\n",
       "      <td>1</td>\n",
       "      <td>...</td>\n",
       "      <td>0</td>\n",
       "      <td>0</td>\n",
       "      <td>0</td>\n",
       "      <td>0</td>\n",
       "    </tr>\n",
       "    <tr>\n",
       "      <th>4</th>\n",
       "      <td>13302</td>\n",
       "      <td>285.0</td>\n",
       "      <td>1551398400000000000</td>\n",
       "      <td>1</td>\n",
       "      <td>...</td>\n",
       "      <td>0</td>\n",
       "      <td>0</td>\n",
       "      <td>0</td>\n",
       "      <td>1</td>\n",
       "    </tr>\n",
       "  </tbody>\n",
       "</table>\n",
       "<p>5 rows × 25 columns</p>\n",
       "</div>"
      ],
      "text/plain": [
       "   price  flight_time          flight_date  stops  ...  destination_Delhi  \\\n",
       "0   3897        170.0  1553385600000000000      0  ...                  0   \n",
       "1   7662        445.0  1556668800000000000      2  ...                  0   \n",
       "2  13882       1140.0  1560038400000000000      2  ...                  0   \n",
       "3   6218        325.0  1557619200000000000      1  ...                  0   \n",
       "4  13302        285.0  1551398400000000000      1  ...                  0   \n",
       "\n",
       "   destination_Hyderabad  destination_Kolkata  destination_New Delhi  \n",
       "0                      0                    0                      1  \n",
       "1                      0                    0                      0  \n",
       "2                      0                    0                      0  \n",
       "3                      0                    0                      0  \n",
       "4                      0                    0                      1  \n",
       "\n",
       "[5 rows x 25 columns]"
      ]
     },
     "execution_count": 20,
     "metadata": {},
     "output_type": "execute_result"
    }
   ],
   "source": [
    "df.head()"
   ]
  },
  {
   "cell_type": "code",
   "execution_count": 21,
   "metadata": {},
   "outputs": [
    {
     "data": {
      "text/html": [
       "<div>\n",
       "<style scoped>\n",
       "    .dataframe tbody tr th:only-of-type {\n",
       "        vertical-align: middle;\n",
       "    }\n",
       "\n",
       "    .dataframe tbody tr th {\n",
       "        vertical-align: top;\n",
       "    }\n",
       "\n",
       "    .dataframe thead th {\n",
       "        text-align: right;\n",
       "    }\n",
       "</style>\n",
       "<table border=\"1\" class=\"dataframe\">\n",
       "  <thead>\n",
       "    <tr style=\"text-align: right;\">\n",
       "      <th></th>\n",
       "      <th>Skew</th>\n",
       "    </tr>\n",
       "  </thead>\n",
       "  <tbody>\n",
       "    <tr>\n",
       "      <th>flight_time</th>\n",
       "      <td>0.856164</td>\n",
       "    </tr>\n",
       "  </tbody>\n",
       "</table>\n",
       "</div>"
      ],
      "text/plain": [
       "                 Skew\n",
       "flight_time  0.856164"
      ]
     },
     "execution_count": 21,
     "metadata": {},
     "output_type": "execute_result"
    }
   ],
   "source": [
    "mask = df.dtypes == np.float\n",
    "float_cols = df.columns[mask]\n",
    "\n",
    "skew_limit = 0.75 # define a limit above which we will log transform\n",
    "skew_vals = df[float_cols].skew()\n",
    "\n",
    "skew_cols = (skew_vals.sort_values(ascending=False)\n",
    "             .to_frame().rename(columns={0:'Skew'})\n",
    "             .query('abs(Skew) > {}'.format(skew_limit)))\n",
    "\n",
    "skew_cols"
   ]
  },
  {
   "cell_type": "code",
   "execution_count": 22,
   "metadata": {},
   "outputs": [
    {
     "data": {
      "text/plain": [
       "<matplotlib.axes._subplots.AxesSubplot at 0x7f8e6036e7c0>"
      ]
     },
     "execution_count": 22,
     "metadata": {},
     "output_type": "execute_result"
    },
    {
     "data": {
      "image/png": "[encoded data removed]",
      "text/plain": [
       "<Figure size 432x288 with 1 Axes>"
      ]
     },
     "metadata": {
      "needs_background": "light"
     },
     "output_type": "display_data"
    }
   ],
   "source": [
    "df['flight_time'].hist()"
   ]
  },
  {
   "cell_type": "code",
   "execution_count": 23,
   "metadata": {},
   "outputs": [
    {
     "data": {
      "image/png": "[encoded data removed]",
      "text/plain": [
       "<Figure size 720x360 with 2 Axes>"
      ]
     },
     "metadata": {
      "needs_background": "light"
     },
     "output_type": "display_data"
    }
   ],
   "source": [
    "# Let's look at what happens to one of these features, when we apply np.log1p visually.\n",
    "\n",
    "# Choose a field\n",
    "field = \"flight_time\"\n",
    "\n",
    "# Create two \"subplots\" and a \"figure\" using matplotlib\n",
    "fig, (ax_before, ax_after) = plt.subplots(1, 2, figsize=(10, 5))\n",
    "\n",
    "# Create a histogram on the \"ax_before\" subplot\n",
    "df[field].hist(ax=ax_before)\n",
    "\n",
    "# Apply a log transformation (numpy syntax) to this column\n",
    "df[field].apply(np.log1p).hist(ax=ax_after)\n",
    "\n",
    "# Formatting of titles etc. for each subplot\n",
    "ax_before.set(title='before np.log1p', ylabel='frequency', xlabel='value')\n",
    "ax_after.set(title='after np.log1p', ylabel='frequency', xlabel='value')\n",
    "fig.suptitle('Field \"{}\"'.format(field));"
   ]
  },
  {
   "cell_type": "code",
   "execution_count": 24,
   "metadata": {},
   "outputs": [],
   "source": [
    "# convert all skewed columns to log1p columns\n",
    "for col in skew_cols.index.values:\n",
    "    if col == \"price\":\n",
    "        continue\n",
    "    df[col] = df[col].apply(np.log1p)"
   ]
  },
  {
   "cell_type": "markdown",
   "metadata": {},
   "source": [
    "# EDA"
   ]
  },
  {
   "cell_type": "code",
   "execution_count": 25,
   "metadata": {},
   "outputs": [
    {
     "data": {
      "text/html": [
       "<div>\n",
       "<style scoped>\n",
       "    .dataframe tbody tr th:only-of-type {\n",
       "        vertical-align: middle;\n",
       "    }\n",
       "\n",
       "    .dataframe tbody tr th {\n",
       "        vertical-align: top;\n",
       "    }\n",
       "\n",
       "    .dataframe thead th {\n",
       "        text-align: right;\n",
       "    }\n",
       "</style>\n",
       "<table border=\"1\" class=\"dataframe\">\n",
       "  <thead>\n",
       "    <tr style=\"text-align: right;\">\n",
       "      <th></th>\n",
       "      <th>price</th>\n",
       "      <th>flight_time</th>\n",
       "      <th>flight_date</th>\n",
       "      <th>stops</th>\n",
       "      <th>...</th>\n",
       "      <th>destination_Delhi</th>\n",
       "      <th>destination_Hyderabad</th>\n",
       "      <th>destination_Kolkata</th>\n",
       "      <th>destination_New Delhi</th>\n",
       "    </tr>\n",
       "  </thead>\n",
       "  <tbody>\n",
       "    <tr>\n",
       "      <th>count</th>\n",
       "      <td>10533.000000</td>\n",
       "      <td>10533.000000</td>\n",
       "      <td>1.053300e+04</td>\n",
       "      <td>10533.000000</td>\n",
       "      <td>...</td>\n",
       "      <td>10533.000000</td>\n",
       "      <td>10533.000000</td>\n",
       "      <td>10533.000000</td>\n",
       "      <td>10533.000000</td>\n",
       "    </tr>\n",
       "    <tr>\n",
       "      <th>mean</th>\n",
       "      <td>8831.720497</td>\n",
       "      <td>6.097555</td>\n",
       "      <td>1.557074e+18</td>\n",
       "      <td>0.818096</td>\n",
       "      <td>...</td>\n",
       "      <td>0.120099</td>\n",
       "      <td>0.065034</td>\n",
       "      <td>0.036172</td>\n",
       "      <td>0.079180</td>\n",
       "    </tr>\n",
       "    <tr>\n",
       "      <th>std</th>\n",
       "      <td>3974.959829</td>\n",
       "      <td>0.906567</td>\n",
       "      <td>3.095518e+15</td>\n",
       "      <td>0.674918</td>\n",
       "      <td>...</td>\n",
       "      <td>0.325092</td>\n",
       "      <td>0.246597</td>\n",
       "      <td>0.186727</td>\n",
       "      <td>0.270032</td>\n",
       "    </tr>\n",
       "    <tr>\n",
       "      <th>min</th>\n",
       "      <td>1759.000000</td>\n",
       "      <td>4.330733</td>\n",
       "      <td>1.551398e+18</td>\n",
       "      <td>0.000000</td>\n",
       "      <td>...</td>\n",
       "      <td>0.000000</td>\n",
       "      <td>0.000000</td>\n",
       "      <td>0.000000</td>\n",
       "      <td>0.000000</td>\n",
       "    </tr>\n",
       "    <tr>\n",
       "      <th>25%</th>\n",
       "      <td>5228.000000</td>\n",
       "      <td>5.141664</td>\n",
       "      <td>1.554077e+18</td>\n",
       "      <td>0.000000</td>\n",
       "      <td>...</td>\n",
       "      <td>0.000000</td>\n",
       "      <td>0.000000</td>\n",
       "      <td>0.000000</td>\n",
       "      <td>0.000000</td>\n",
       "    </tr>\n",
       "    <tr>\n",
       "      <th>50%</th>\n",
       "      <td>8285.000000</td>\n",
       "      <td>6.246107</td>\n",
       "      <td>1.557878e+18</td>\n",
       "      <td>1.000000</td>\n",
       "      <td>...</td>\n",
       "      <td>0.000000</td>\n",
       "      <td>0.000000</td>\n",
       "      <td>0.000000</td>\n",
       "      <td>0.000000</td>\n",
       "    </tr>\n",
       "    <tr>\n",
       "      <th>75%</th>\n",
       "      <td>12242.000000</td>\n",
       "      <td>6.836259</td>\n",
       "      <td>1.559779e+18</td>\n",
       "      <td>1.000000</td>\n",
       "      <td>...</td>\n",
       "      <td>0.000000</td>\n",
       "      <td>0.000000</td>\n",
       "      <td>0.000000</td>\n",
       "      <td>0.000000</td>\n",
       "    </tr>\n",
       "    <tr>\n",
       "      <th>max</th>\n",
       "      <td>19907.000000</td>\n",
       "      <td>7.850104</td>\n",
       "      <td>1.561594e+18</td>\n",
       "      <td>4.000000</td>\n",
       "      <td>...</td>\n",
       "      <td>1.000000</td>\n",
       "      <td>1.000000</td>\n",
       "      <td>1.000000</td>\n",
       "      <td>1.000000</td>\n",
       "    </tr>\n",
       "  </tbody>\n",
       "</table>\n",
       "<p>8 rows × 25 columns</p>\n",
       "</div>"
      ],
      "text/plain": [
       "              price   flight_time   flight_date         stops  ...  \\\n",
       "count  10533.000000  10533.000000  1.053300e+04  10533.000000  ...   \n",
       "mean    8831.720497      6.097555  1.557074e+18      0.818096  ...   \n",
       "std     3974.959829      0.906567  3.095518e+15      0.674918  ...   \n",
       "min     1759.000000      4.330733  1.551398e+18      0.000000  ...   \n",
       "25%     5228.000000      5.141664  1.554077e+18      0.000000  ...   \n",
       "50%     8285.000000      6.246107  1.557878e+18      1.000000  ...   \n",
       "75%    12242.000000      6.836259  1.559779e+18      1.000000  ...   \n",
       "max    19907.000000      7.850104  1.561594e+18      4.000000  ...   \n",
       "\n",
       "       destination_Delhi  destination_Hyderabad  destination_Kolkata  \\\n",
       "count       10533.000000           10533.000000         10533.000000   \n",
       "mean            0.120099               0.065034             0.036172   \n",
       "std             0.325092               0.246597             0.186727   \n",
       "min             0.000000               0.000000             0.000000   \n",
       "25%             0.000000               0.000000             0.000000   \n",
       "50%             0.000000               0.000000             0.000000   \n",
       "75%             0.000000               0.000000             0.000000   \n",
       "max             1.000000               1.000000             1.000000   \n",
       "\n",
       "       destination_New Delhi  \n",
       "count           10533.000000  \n",
       "mean                0.079180  \n",
       "std                 0.270032  \n",
       "min                 0.000000  \n",
       "25%                 0.000000  \n",
       "50%                 0.000000  \n",
       "75%                 0.000000  \n",
       "max                 1.000000  \n",
       "\n",
       "[8 rows x 25 columns]"
      ]
     },
     "execution_count": 25,
     "metadata": {},
     "output_type": "execute_result"
    }
   ],
   "source": [
    "df.describe()"
   ]
  },
  {
   "cell_type": "code",
   "execution_count": 26,
   "metadata": {
    "scrolled": true
   },
   "outputs": [
    {
     "data": {
      "image/png": "[encoded data removed]",
      "text/plain": [
       "<Figure size 432x288 with 1 Axes>"
      ]
     },
     "metadata": {
      "needs_background": "light"
     },
     "output_type": "display_data"
    }
   ],
   "source": [
    "# A simple scatter plot with Matplotlib\n",
    "ax = plt.axes()\n",
    "\n",
    "ax.scatter(df['price'],df['flight_time'],alpha=0.2)\n",
    "\n",
    "# Label the axes\n",
    "ax.set(xlabel='flight_time (mins)',\n",
    "       ylabel='Price',\n",
    "       title='Price vs Flight Time');\n",
    "### END SOLUTION"
   ]
  },
  {
   "cell_type": "code",
   "execution_count": 27,
   "metadata": {
    "scrolled": true
   },
   "outputs": [],
   "source": [
    "# sns.set_context('talk')\n",
    "# sns.pairplot(df);\n"
   ]
  },
  {
   "cell_type": "markdown",
   "metadata": {},
   "source": [
    "### Determining Normality of Target Variable\n"
   ]
  },
  {
   "cell_type": "code",
   "execution_count": 28,
   "metadata": {},
   "outputs": [
    {
     "data": {
      "text/plain": [
       "<matplotlib.axes._subplots.AxesSubplot at 0x7f8e5fdede80>"
      ]
     },
     "execution_count": 28,
     "metadata": {},
     "output_type": "execute_result"
    },
    {
     "data": {
      "image/png": "[encoded data removed]",
      "text/plain": [
       "<Figure size 432x288 with 1 Axes>"
      ]
     },
     "metadata": {
      "needs_background": "light"
     },
     "output_type": "display_data"
    }
   ],
   "source": [
    "df['price'].hist()"
   ]
  },
  {
   "cell_type": "markdown",
   "metadata": {},
   "source": [
    "Data does not look normally distrubuted due to the right tail. We can verify this statistically"
   ]
  },
  {
   "cell_type": "code",
   "execution_count": 29,
   "metadata": {},
   "outputs": [],
   "source": [
    "from scipy.stats.mstats import normaltest # D'Agostino K^2 Test"
   ]
  },
  {
   "cell_type": "markdown",
   "metadata": {},
   "source": [
    "The p-value we have is very low, therefore our target variable is not normally distrubuted."
   ]
  },
  {
   "cell_type": "code",
   "execution_count": 30,
   "metadata": {},
   "outputs": [
    {
     "data": {
      "text/plain": [
       "NormaltestResult(statistic=723.0778341485475, pvalue=9.674829526740758e-158)"
      ]
     },
     "execution_count": 30,
     "metadata": {},
     "output_type": "execute_result"
    },
    {
     "data": {
      "image/png": "[encoded data removed]",
      "text/plain": [
       "<Figure size 432x288 with 1 Axes>"
      ]
     },
     "metadata": {
      "needs_background": "light"
     },
     "output_type": "display_data"
    }
   ],
   "source": [
    "log_price = np.log(df['price'])\n",
    "plt.hist(log_price)\n",
    "normaltest(log_price)"
   ]
  },
  {
   "cell_type": "code",
   "execution_count": 31,
   "metadata": {},
   "outputs": [
    {
     "data": {
      "text/plain": [
       "NormaltestResult(statistic=2784.1765527540415, pvalue=0.0)"
      ]
     },
     "execution_count": 31,
     "metadata": {},
     "output_type": "execute_result"
    },
    {
     "data": {
      "image/png": "[encoded data removed]",
      "text/plain": [
       "<Figure size 432x288 with 1 Axes>"
      ]
     },
     "metadata": {
      "needs_background": "light"
     },
     "output_type": "display_data"
    }
   ],
   "source": [
    "sqrt_price = np.sqrt(df['price'])\n",
    "plt.hist(sqrt_price)\n",
    "normaltest(sqrt_price)"
   ]
  },
  {
   "cell_type": "code",
   "execution_count": 32,
   "metadata": {},
   "outputs": [
    {
     "data": {
      "text/plain": [
       "NormaltestResult(statistic=2479.413141641205, pvalue=0.0)"
      ]
     },
     "execution_count": 32,
     "metadata": {},
     "output_type": "execute_result"
    },
    {
     "data": {
      "image/png": "[encoded data removed]",
      "text/plain": [
       "<Figure size 432x288 with 1 Axes>"
      ]
     },
     "metadata": {
      "needs_background": "light"
     },
     "output_type": "display_data"
    }
   ],
   "source": [
    "from scipy.stats import boxcox\n",
    "bc_result = boxcox(df['price'])\n",
    "bc_price = bc_result[0]\n",
    "plt.hist(bc_price)\n",
    "normaltest(bc_price)"
   ]
  },
  {
   "cell_type": "code",
   "execution_count": 33,
   "metadata": {},
   "outputs": [],
   "source": [
    "#function to return plots for the feature\n",
    "def normality(transform):\n",
    "    plt.figure(figsize=(10,5))\n",
    "    plt.subplot(1,2,1)\n",
    "    sns.kdeplot(transform)\n",
    "    plt.subplot(1,2,2)\n",
    "    stats.probplot(transform,plot=pylab)\n",
    "    plt.show()\n",
    "    print(normaltest(transform))"
   ]
  },
  {
   "cell_type": "code",
   "execution_count": 34,
   "metadata": {},
   "outputs": [
    {
     "data": {
      "image/png": "[encoded data removed]",
      "text/plain": [
       "<Figure size 720x360 with 2 Axes>"
      ]
     },
     "metadata": {
      "needs_background": "light"
     },
     "output_type": "display_data"
    },
    {
     "name": "stdout",
     "output_type": "stream",
     "text": [
      "NormaltestResult(statistic=723.0778341485475, pvalue=9.674829526740758e-158)\n"
     ]
    }
   ],
   "source": [
    "normality(np.log(df['price']))\n"
   ]
  },
  {
   "cell_type": "code",
   "execution_count": 35,
   "metadata": {},
   "outputs": [
    {
     "data": {
      "image/png": "[encoded data removed]",
      "text/plain": [
       "<Figure size 720x360 with 2 Axes>"
      ]
     },
     "metadata": {
      "needs_background": "light"
     },
     "output_type": "display_data"
    },
    {
     "name": "stdout",
     "output_type": "stream",
     "text": [
      "NormaltestResult(statistic=3213.837279353121, pvalue=0.0)\n"
     ]
    }
   ],
   "source": [
    "normality(1/df['price'])\n"
   ]
  },
  {
   "cell_type": "code",
   "execution_count": 36,
   "metadata": {},
   "outputs": [
    {
     "data": {
      "image/png": "[encoded data removed]",
      "text/plain": [
       "<Figure size 720x360 with 2 Axes>"
      ]
     },
     "metadata": {
      "needs_background": "light"
     },
     "output_type": "display_data"
    },
    {
     "name": "stdout",
     "output_type": "stream",
     "text": [
      "NormaltestResult(statistic=2784.1765527540415, pvalue=0.0)\n"
     ]
    }
   ],
   "source": [
    "normality(np.sqrt(df['price']))\n"
   ]
  },
  {
   "cell_type": "code",
   "execution_count": 37,
   "metadata": {},
   "outputs": [
    {
     "data": {
      "image/png": "[encoded data removed]",
      "text/plain": [
       "<Figure size 720x360 with 2 Axes>"
      ]
     },
     "metadata": {
      "needs_background": "light"
     },
     "output_type": "display_data"
    },
    {
     "name": "stdout",
     "output_type": "stream",
     "text": [
      "NormaltestResult(statistic=2479.413141641205, pvalue=0.0)\n"
     ]
    }
   ],
   "source": [
    "normality(stats.boxcox(df['price'])[0])\n"
   ]
  },
  {
   "cell_type": "markdown",
   "metadata": {},
   "source": [
    "From this a log transformation makes the target variables marginally more normally distrubuted"
   ]
  },
  {
   "cell_type": "code",
   "execution_count": 38,
   "metadata": {},
   "outputs": [],
   "source": [
    "before = df.copy()"
   ]
  },
  {
   "cell_type": "code",
   "execution_count": 39,
   "metadata": {},
   "outputs": [],
   "source": [
    "df['price'] = np.sqrt(df['price'])"
   ]
  },
  {
   "cell_type": "code",
   "execution_count": 40,
   "metadata": {},
   "outputs": [
    {
     "data": {
      "text/plain": [
       "<matplotlib.axes._subplots.AxesSubplot at 0x7f8e60f47100>"
      ]
     },
     "execution_count": 40,
     "metadata": {},
     "output_type": "execute_result"
    },
    {
     "data": {
      "image/png": "[encoded data removed]",
      "text/plain": [
       "<Figure size 432x288 with 2 Axes>"
      ]
     },
     "metadata": {
      "needs_background": "light"
     },
     "output_type": "display_data"
    }
   ],
   "source": [
    "\n",
    "fig, axes = plt.subplots(1, 2)\n",
    "axes[0].set_title('histogram for prices before')\n",
    "axes[1].set_title('histogram for prices after')\n",
    "\n",
    "before['price'].hist(ax=axes[0])\n",
    "df['price'].hist(ax=axes[1])\n"
   ]
  },
  {
   "cell_type": "markdown",
   "metadata": {},
   "source": [
    "## Testing Regression and CV\n"
   ]
  },
  {
   "cell_type": "code",
   "execution_count": 41,
   "metadata": {},
   "outputs": [],
   "source": [
    "from sklearn.linear_model import LinearRegression, Lasso, Ridge\n",
    "\n",
    "from sklearn.metrics import r2_score\n",
    "from sklearn.model_selection import train_test_split\n",
    "from sklearn.model_selection import KFold, cross_val_predict\n",
    "\n"
   ]
  },
  {
   "cell_type": "code",
   "execution_count": 42,
   "metadata": {
    "scrolled": true
   },
   "outputs": [
    {
     "name": "stdout",
     "output_type": "stream",
     "text": [
      "(8426, 24) (8426,) (2107, 24) (2107,)\n"
     ]
    }
   ],
   "source": [
    "target = \"price\"\n",
    "\n",
    "X = df.drop(target, axis=1)\n",
    "y = df[target]\n",
    "\n",
    "X_train, X_test, y_train, y_test = train_test_split(X, y, test_size=0.2, \n",
    "                                                    random_state=42)\n",
    "\n",
    "print(X_train.shape,y_train.shape,X_test.shape,y_test.shape)"
   ]
  },
  {
   "cell_type": "code",
   "execution_count": 43,
   "metadata": {},
   "outputs": [
    {
     "name": "stdout",
     "output_type": "stream",
     "text": [
      "LinearRegression\n",
      "CV r2 score: -334.59469852198663\n",
      "r2 score: 0.00466197161476134\n",
      "\n"
     ]
    }
   ],
   "source": [
    "kf = KFold(shuffle=True, random_state=42, n_splits=3)\n",
    "\n",
    "model_selection = []\n",
    "model_cv_score = []\n",
    "model_r2_score = []\n",
    "\n",
    "models = [LinearRegression()]\n",
    "for model in models:\n",
    "    model.fit(X_train,y_train)\n",
    "    model_pred = model.predict(X_test)\n",
    "\n",
    "    cv_pred = cross_val_predict(model, X_train, y_train, cv=kf)\n",
    "    cv_r2 = r2_score(y_train, cv_pred)\n",
    "\n",
    "    r2 = r2_score(model_pred,y_test)\n",
    "\n",
    "    model_selection.append(type(model).__name__),model_cv_score.append(cv_r2),model_r2_score.append(r2)\n",
    "    print(type(model).__name__)\n",
    "    print('CV r2 score:',cv_r2)\n",
    "    print('r2 score:',r2)\n",
    "    print()\n",
    "\n",
    "df_r2_scores = pd.DataFrame([model_selection,model_cv_score,model_r2_score]).T\n",
    "df_r2_scores.columns=['model','CV_score','r2_score']"
   ]
  },
  {
   "cell_type": "code",
   "execution_count": 44,
   "metadata": {},
   "outputs": [
    {
     "data": {
      "text/html": [
       "<div>\n",
       "<style scoped>\n",
       "    .dataframe tbody tr th:only-of-type {\n",
       "        vertical-align: middle;\n",
       "    }\n",
       "\n",
       "    .dataframe tbody tr th {\n",
       "        vertical-align: top;\n",
       "    }\n",
       "\n",
       "    .dataframe thead th {\n",
       "        text-align: right;\n",
       "    }\n",
       "</style>\n",
       "<table border=\"1\" class=\"dataframe\">\n",
       "  <thead>\n",
       "    <tr style=\"text-align: right;\">\n",
       "      <th></th>\n",
       "      <th>model</th>\n",
       "      <th>CV_score</th>\n",
       "      <th>r2_score</th>\n",
       "    </tr>\n",
       "  </thead>\n",
       "  <tbody>\n",
       "    <tr>\n",
       "      <th>0</th>\n",
       "      <td>LinearRegression</td>\n",
       "      <td>-334.595</td>\n",
       "      <td>0.00466197</td>\n",
       "    </tr>\n",
       "  </tbody>\n",
       "</table>\n",
       "</div>"
      ],
      "text/plain": [
       "              model CV_score    r2_score\n",
       "0  LinearRegression -334.595  0.00466197"
      ]
     },
     "execution_count": 44,
     "metadata": {},
     "output_type": "execute_result"
    }
   ],
   "source": [
    "df_r2_scores"
   ]
  },
  {
   "cell_type": "markdown",
   "metadata": {},
   "source": [
    "## Use Polynomial Features"
   ]
  },
  {
   "cell_type": "code",
   "execution_count": 45,
   "metadata": {},
   "outputs": [],
   "source": [
    "from sklearn.preprocessing import StandardScaler, PolynomialFeatures\n"
   ]
  },
  {
   "cell_type": "code",
   "execution_count": 46,
   "metadata": {},
   "outputs": [],
   "source": [
    "pf = PolynomialFeatures(degree=2)\n",
    "X_pf = pf.fit_transform(X)"
   ]
  },
  {
   "cell_type": "code",
   "execution_count": 47,
   "metadata": {},
   "outputs": [
    {
     "name": "stdout",
     "output_type": "stream",
     "text": [
      "(8426, 325) (8426,) (2107, 325) (2107,)\n"
     ]
    }
   ],
   "source": [
    "X_train, X_test, y_train, y_test = train_test_split(X_pf, y, test_size=0.2, \n",
    "                                                    random_state=42)\n",
    "\n",
    "print(X_train.shape,y_train.shape,X_test.shape,y_test.shape)"
   ]
  },
  {
   "cell_type": "code",
   "execution_count": 48,
   "metadata": {},
   "outputs": [
    {
     "name": "stdout",
     "output_type": "stream",
     "text": [
      "LinearRegression\n",
      "CV r2 score: 0.1236566074152532\n",
      "r2 score: -9.241643438025319\n",
      "\n"
     ]
    }
   ],
   "source": [
    "models = [LinearRegression()]\n",
    "for model in models:\n",
    "    model.fit(X_train,y_train)\n",
    "    model_pred = model.predict(X_test)\n",
    "\n",
    "    cv_pred = cross_val_predict(model, X_train, y_train, cv=kf)\n",
    "    cv_r2 = r2_score(y_train, cv_pred)\n",
    "\n",
    "    r2 = r2_score(model_pred,y_test)\n",
    "\n",
    "    model_selection.append(type(model).__name__+' w/ Poly deg=2'),model_cv_score.append(cv_r2),model_r2_score.append(r2)\n",
    "    print(type(model).__name__)\n",
    "    print('CV r2 score:',cv_r2)\n",
    "    print('r2 score:',r2)\n",
    "    print()\n",
    "    \n",
    "df_r2_scores = pd.DataFrame([model_selection,model_cv_score,model_r2_score]).T\n",
    "df_r2_scores.columns=['model','CV_score','r2_score']"
   ]
  },
  {
   "cell_type": "code",
   "execution_count": 49,
   "metadata": {},
   "outputs": [
    {
     "data": {
      "text/html": [
       "<div>\n",
       "<style scoped>\n",
       "    .dataframe tbody tr th:only-of-type {\n",
       "        vertical-align: middle;\n",
       "    }\n",
       "\n",
       "    .dataframe tbody tr th {\n",
       "        vertical-align: top;\n",
       "    }\n",
       "\n",
       "    .dataframe thead th {\n",
       "        text-align: right;\n",
       "    }\n",
       "</style>\n",
       "<table border=\"1\" class=\"dataframe\">\n",
       "  <thead>\n",
       "    <tr style=\"text-align: right;\">\n",
       "      <th></th>\n",
       "      <th>model</th>\n",
       "      <th>CV_score</th>\n",
       "      <th>r2_score</th>\n",
       "    </tr>\n",
       "  </thead>\n",
       "  <tbody>\n",
       "    <tr>\n",
       "      <th>0</th>\n",
       "      <td>LinearRegression</td>\n",
       "      <td>-334.595</td>\n",
       "      <td>0.00466197</td>\n",
       "    </tr>\n",
       "    <tr>\n",
       "      <th>1</th>\n",
       "      <td>LinearRegression w/ Poly deg=2</td>\n",
       "      <td>0.123657</td>\n",
       "      <td>-9.24164</td>\n",
       "    </tr>\n",
       "  </tbody>\n",
       "</table>\n",
       "</div>"
      ],
      "text/plain": [
       "                            model  CV_score    r2_score\n",
       "0                LinearRegression  -334.595  0.00466197\n",
       "1  LinearRegression w/ Poly deg=2  0.123657    -9.24164"
      ]
     },
     "execution_count": 49,
     "metadata": {},
     "output_type": "execute_result"
    }
   ],
   "source": [
    "df_r2_scores"
   ]
  },
  {
   "cell_type": "markdown",
   "metadata": {},
   "source": [
    "## Use Scalers"
   ]
  },
  {
   "cell_type": "code",
   "execution_count": 50,
   "metadata": {},
   "outputs": [],
   "source": [
    "from sklearn.pipeline import Pipeline"
   ]
  },
  {
   "cell_type": "code",
   "execution_count": 51,
   "metadata": {},
   "outputs": [],
   "source": [
    "s = StandardScaler()"
   ]
  },
  {
   "cell_type": "code",
   "execution_count": 52,
   "metadata": {},
   "outputs": [
    {
     "name": "stdout",
     "output_type": "stream",
     "text": [
      "LinearRegression\n",
      "CV r2 score: -9.68798455462458e+22\n",
      "r2 score: 0.7839644874068222\n",
      "\n"
     ]
    }
   ],
   "source": [
    "models = [LinearRegression()]\n",
    "for model in models:\n",
    "    \n",
    "    estimator = Pipeline([(\"scaler\", s),\n",
    "                      (\"regression\", model)])\n",
    "    estimator.fit(X_train,y_train)\n",
    "    model_pred = estimator.predict(X_test)\n",
    "\n",
    "    cv_pred = cross_val_predict(estimator, X_train, y_train, cv=kf)\n",
    "    cv_r2 = r2_score(y_train, cv_pred)\n",
    "\n",
    "    r2 = r2_score(model_pred,y_test)\n",
    "\n",
    "    model_selection.append(type(model).__name__+' w/ Poly deg=2, and scalers'),model_cv_score.append(cv_r2),model_r2_score.append(r2)\n",
    "    print(type(model).__name__)\n",
    "    print('CV r2 score:',cv_r2)\n",
    "    print('r2 score:',r2)\n",
    "    print()\n",
    "\n",
    "df_r2_scores = pd.DataFrame([model_selection,model_cv_score,model_r2_score]).T\n",
    "df_r2_scores.columns=['model','CV_score','r2_score']"
   ]
  },
  {
   "cell_type": "code",
   "execution_count": 53,
   "metadata": {},
   "outputs": [
    {
     "data": {
      "text/html": [
       "<div>\n",
       "<style scoped>\n",
       "    .dataframe tbody tr th:only-of-type {\n",
       "        vertical-align: middle;\n",
       "    }\n",
       "\n",
       "    .dataframe tbody tr th {\n",
       "        vertical-align: top;\n",
       "    }\n",
       "\n",
       "    .dataframe thead th {\n",
       "        text-align: right;\n",
       "    }\n",
       "</style>\n",
       "<table border=\"1\" class=\"dataframe\">\n",
       "  <thead>\n",
       "    <tr style=\"text-align: right;\">\n",
       "      <th></th>\n",
       "      <th>model</th>\n",
       "      <th>CV_score</th>\n",
       "      <th>r2_score</th>\n",
       "    </tr>\n",
       "  </thead>\n",
       "  <tbody>\n",
       "    <tr>\n",
       "      <th>0</th>\n",
       "      <td>LinearRegression</td>\n",
       "      <td>-334.595</td>\n",
       "      <td>0.00466197</td>\n",
       "    </tr>\n",
       "    <tr>\n",
       "      <th>1</th>\n",
       "      <td>LinearRegression w/ Poly deg=2</td>\n",
       "      <td>0.123657</td>\n",
       "      <td>-9.24164</td>\n",
       "    </tr>\n",
       "    <tr>\n",
       "      <th>2</th>\n",
       "      <td>LinearRegression w/ Poly deg=2, and scalers</td>\n",
       "      <td>-9.68798e+22</td>\n",
       "      <td>0.783964</td>\n",
       "    </tr>\n",
       "  </tbody>\n",
       "</table>\n",
       "</div>"
      ],
      "text/plain": [
       "                                         model     CV_score    r2_score\n",
       "0                             LinearRegression     -334.595  0.00466197\n",
       "1               LinearRegression w/ Poly deg=2     0.123657    -9.24164\n",
       "2  LinearRegression w/ Poly deg=2, and scalers -9.68798e+22    0.783964"
      ]
     },
     "execution_count": 53,
     "metadata": {},
     "output_type": "execute_result"
    }
   ],
   "source": [
    "df_r2_scores"
   ]
  },
  {
   "cell_type": "markdown",
   "metadata": {},
   "source": [
    "## Use Hyperparamter Tuning\n"
   ]
  },
  {
   "cell_type": "code",
   "execution_count": 54,
   "metadata": {},
   "outputs": [
    {
     "data": {
      "text/plain": [
       "[0.0001, 0.001, 0.01]"
      ]
     },
     "execution_count": 54,
     "metadata": {},
     "output_type": "execute_result"
    }
   ],
   "source": [
    "alphas = [1.e-04, 1.e-03, 1.e-02,]\n",
    "alphas"
   ]
  },
  {
   "cell_type": "code",
   "execution_count": 55,
   "metadata": {},
   "outputs": [
    {
     "name": "stdout",
     "output_type": "stream",
     "text": [
      "Lasso 0.0001\n",
      "CV r2 score: 0.7763275960092024\n",
      "r2 score: 0.7507473906358463\n",
      "\n",
      "Lasso 0.001\n",
      "CV r2 score: 0.7786423129299426\n",
      "r2 score: 0.743782434932541\n",
      "\n",
      "Lasso 0.01\n",
      "CV r2 score: 0.7772243346791131\n",
      "r2 score: 0.737506130914537\n",
      "\n",
      "Ridge 0.0001\n",
      "CV r2 score: 0.6874842888127106\n",
      "r2 score: 0.7833646770367334\n",
      "\n",
      "Ridge 0.001\n",
      "CV r2 score: 0.7848946361915667\n",
      "r2 score: 0.7784507170700781\n",
      "\n",
      "Ridge 0.01\n",
      "CV r2 score: 0.7807199986018732\n",
      "r2 score: 0.7637201398481899\n",
      "\n"
     ]
    }
   ],
   "source": [
    "models = [Lasso,Ridge]\n",
    "for model in models:\n",
    "    for alpha in alphas:\n",
    "        new_model = model(alpha=alpha, max_iter=100000)\n",
    "\n",
    "        estimator = Pipeline([\n",
    "            (\"scaler\", s),\n",
    "            (\"model_regression\", new_model)])\n",
    "\n",
    "        estimator.fit(X_train,y_train)\n",
    "        model_pred = estimator.predict(X_test)\n",
    "        cv_pred = cross_val_predict(estimator, X_train, y_train, cv = kf)\n",
    "        cv_r2 = r2_score(y_train, cv_pred)\n",
    "        r2 = r2_score(model_pred, y_test)\n",
    "\n",
    "        model_selection.append(type(new_model).__name__+' w/ scaler + alpha'+str(alpha)),model_cv_score.append(cv_r2),model_r2_score.append(r2)\n",
    "        print(type(new_model).__name__,alpha)\n",
    "        print('CV r2 score:',cv_r2)\n",
    "        print('r2 score:',r2)\n",
    "        print()\n",
    "    df_r2_scores = pd.DataFrame([model_selection,model_cv_score,model_r2_score]).T\n",
    "    df_r2_scores.columns=['model','CV_score','r2_score']"
   ]
  },
  {
   "cell_type": "code",
   "execution_count": 56,
   "metadata": {},
   "outputs": [
    {
     "data": {
      "text/html": [
       "<div>\n",
       "<style scoped>\n",
       "    .dataframe tbody tr th:only-of-type {\n",
       "        vertical-align: middle;\n",
       "    }\n",
       "\n",
       "    .dataframe tbody tr th {\n",
       "        vertical-align: top;\n",
       "    }\n",
       "\n",
       "    .dataframe thead th {\n",
       "        text-align: right;\n",
       "    }\n",
       "</style>\n",
       "<table border=\"1\" class=\"dataframe\">\n",
       "  <thead>\n",
       "    <tr style=\"text-align: right;\">\n",
       "      <th></th>\n",
       "      <th>model</th>\n",
       "      <th>CV_score</th>\n",
       "      <th>r2_score</th>\n",
       "    </tr>\n",
       "  </thead>\n",
       "  <tbody>\n",
       "    <tr>\n",
       "      <th>0</th>\n",
       "      <td>LinearRegression</td>\n",
       "      <td>-334.595</td>\n",
       "      <td>0.00466197</td>\n",
       "    </tr>\n",
       "    <tr>\n",
       "      <th>1</th>\n",
       "      <td>LinearRegression w/ Poly deg=2</td>\n",
       "      <td>0.123657</td>\n",
       "      <td>-9.24164</td>\n",
       "    </tr>\n",
       "    <tr>\n",
       "      <th>2</th>\n",
       "      <td>LinearRegression w/ Poly deg=2, and scalers</td>\n",
       "      <td>-9.68798e+22</td>\n",
       "      <td>0.783964</td>\n",
       "    </tr>\n",
       "    <tr>\n",
       "      <th>3</th>\n",
       "      <td>Lasso w/ scaler + alpha0.0001</td>\n",
       "      <td>0.776328</td>\n",
       "      <td>0.750747</td>\n",
       "    </tr>\n",
       "    <tr>\n",
       "      <th>4</th>\n",
       "      <td>Lasso w/ scaler + alpha0.001</td>\n",
       "      <td>0.778642</td>\n",
       "      <td>0.743782</td>\n",
       "    </tr>\n",
       "    <tr>\n",
       "      <th>5</th>\n",
       "      <td>Lasso w/ scaler + alpha0.01</td>\n",
       "      <td>0.777224</td>\n",
       "      <td>0.737506</td>\n",
       "    </tr>\n",
       "    <tr>\n",
       "      <th>6</th>\n",
       "      <td>Ridge w/ scaler + alpha0.0001</td>\n",
       "      <td>0.687484</td>\n",
       "      <td>0.783365</td>\n",
       "    </tr>\n",
       "    <tr>\n",
       "      <th>7</th>\n",
       "      <td>Ridge w/ scaler + alpha0.001</td>\n",
       "      <td>0.784895</td>\n",
       "      <td>0.778451</td>\n",
       "    </tr>\n",
       "    <tr>\n",
       "      <th>8</th>\n",
       "      <td>Ridge w/ scaler + alpha0.01</td>\n",
       "      <td>0.78072</td>\n",
       "      <td>0.76372</td>\n",
       "    </tr>\n",
       "  </tbody>\n",
       "</table>\n",
       "</div>"
      ],
      "text/plain": [
       "                                         model     CV_score    r2_score\n",
       "0                             LinearRegression     -334.595  0.00466197\n",
       "1               LinearRegression w/ Poly deg=2     0.123657    -9.24164\n",
       "2  LinearRegression w/ Poly deg=2, and scalers -9.68798e+22    0.783964\n",
       "3                Lasso w/ scaler + alpha0.0001     0.776328    0.750747\n",
       "4                 Lasso w/ scaler + alpha0.001     0.778642    0.743782\n",
       "5                  Lasso w/ scaler + alpha0.01     0.777224    0.737506\n",
       "6                Ridge w/ scaler + alpha0.0001     0.687484    0.783365\n",
       "7                 Ridge w/ scaler + alpha0.001     0.784895    0.778451\n",
       "8                  Ridge w/ scaler + alpha0.01      0.78072     0.76372"
      ]
     },
     "execution_count": 56,
     "metadata": {},
     "output_type": "execute_result"
    }
   ],
   "source": [
    "df_r2_scores"
   ]
  },
  {
   "cell_type": "markdown",
   "metadata": {},
   "source": [
    "## Use Hyperparamter Tuning w/ Poly\n"
   ]
  },
  {
   "cell_type": "code",
   "execution_count": 59,
   "metadata": {},
   "outputs": [
    {
     "data": {
      "text/plain": [
       "[0.1]"
      ]
     },
     "execution_count": 59,
     "metadata": {},
     "output_type": "execute_result"
    }
   ],
   "source": [
    "alphas = [1.e-01]\n",
    "alphas"
   ]
  },
  {
   "cell_type": "code",
   "execution_count": 60,
   "metadata": {},
   "outputs": [
    {
     "name": "stdout",
     "output_type": "stream",
     "text": [
      "Lasso 0.1\n",
      "CV r2 score: 0.7776116427172903\n",
      "r2 score: 0.7295940258214979\n",
      "\n",
      "Ridge 0.1\n",
      "CV r2 score: 0.6331913995791807\n",
      "r2 score: 0.7014396124151667\n",
      "\n"
     ]
    }
   ],
   "source": [
    "models = [Lasso,Ridge]\n",
    "pf = PolynomialFeatures(degree=2)\n",
    "\n",
    "for model in models:\n",
    "    for alpha in alphas:\n",
    "        new_model = model(alpha=alpha, max_iter=100000)\n",
    "\n",
    "        estimator = Pipeline([\n",
    "            (\"make_higher_degree\", pf),\n",
    "            (\"scaler\", s),\n",
    "            (\"model_regression\", new_model)])\n",
    "\n",
    "        estimator.fit(X_train,y_train)\n",
    "        model_pred = estimator.predict(X_test)\n",
    "        cv_pred = cross_val_predict(estimator, X_train, y_train, cv = kf)\n",
    "        cv_r2 = r2_score(y_train, cv_pred)\n",
    "        r2 = r2_score(model_pred, y_test)\n",
    "\n",
    "        model_selection.append(type(new_model).__name__+' w/ poly d=2 + scaler + alpha'+str(alpha)),model_cv_score.append(cv_r2),model_r2_score.append(r2)\n",
    "        print(type(new_model).__name__,alpha)\n",
    "        print('CV r2 score:',cv_r2)\n",
    "        print('r2 score:',r2)\n",
    "        print()\n",
    "    df_r2_scores = pd.DataFrame([model_selection,model_cv_score,model_r2_score]).T\n",
    "    df_r2_scores.columns=['model','CV_score','r2_score']"
   ]
  },
  {
   "cell_type": "code",
   "execution_count": 61,
   "metadata": {
    "scrolled": true
   },
   "outputs": [
    {
     "data": {
      "text/html": [
       "<div>\n",
       "<style scoped>\n",
       "    .dataframe tbody tr th:only-of-type {\n",
       "        vertical-align: middle;\n",
       "    }\n",
       "\n",
       "    .dataframe tbody tr th {\n",
       "        vertical-align: top;\n",
       "    }\n",
       "\n",
       "    .dataframe thead th {\n",
       "        text-align: right;\n",
       "    }\n",
       "</style>\n",
       "<table border=\"1\" class=\"dataframe\">\n",
       "  <thead>\n",
       "    <tr style=\"text-align: right;\">\n",
       "      <th></th>\n",
       "      <th>model</th>\n",
       "      <th>CV_score</th>\n",
       "      <th>r2_score</th>\n",
       "    </tr>\n",
       "  </thead>\n",
       "  <tbody>\n",
       "    <tr>\n",
       "      <th>0</th>\n",
       "      <td>LinearRegression</td>\n",
       "      <td>-334.595</td>\n",
       "      <td>0.00466197</td>\n",
       "    </tr>\n",
       "    <tr>\n",
       "      <th>1</th>\n",
       "      <td>LinearRegression w/ Poly deg=2</td>\n",
       "      <td>0.123657</td>\n",
       "      <td>-9.24164</td>\n",
       "    </tr>\n",
       "    <tr>\n",
       "      <th>2</th>\n",
       "      <td>LinearRegression w/ Poly deg=2, and scalers</td>\n",
       "      <td>-9.68798e+22</td>\n",
       "      <td>0.783964</td>\n",
       "    </tr>\n",
       "    <tr>\n",
       "      <th>3</th>\n",
       "      <td>Lasso w/ scaler + alpha0.0001</td>\n",
       "      <td>0.776328</td>\n",
       "      <td>0.750747</td>\n",
       "    </tr>\n",
       "    <tr>\n",
       "      <th>4</th>\n",
       "      <td>Lasso w/ scaler + alpha0.001</td>\n",
       "      <td>0.778642</td>\n",
       "      <td>0.743782</td>\n",
       "    </tr>\n",
       "    <tr>\n",
       "      <th>5</th>\n",
       "      <td>Lasso w/ scaler + alpha0.01</td>\n",
       "      <td>0.777224</td>\n",
       "      <td>0.737506</td>\n",
       "    </tr>\n",
       "    <tr>\n",
       "      <th>6</th>\n",
       "      <td>Ridge w/ scaler + alpha0.0001</td>\n",
       "      <td>0.687484</td>\n",
       "      <td>0.783365</td>\n",
       "    </tr>\n",
       "    <tr>\n",
       "      <th>7</th>\n",
       "      <td>Ridge w/ scaler + alpha0.001</td>\n",
       "      <td>0.784895</td>\n",
       "      <td>0.778451</td>\n",
       "    </tr>\n",
       "    <tr>\n",
       "      <th>8</th>\n",
       "      <td>Ridge w/ scaler + alpha0.01</td>\n",
       "      <td>0.78072</td>\n",
       "      <td>0.76372</td>\n",
       "    </tr>\n",
       "    <tr>\n",
       "      <th>9</th>\n",
       "      <td>Lasso w/ poly d=2 + scaler + alpha0.1</td>\n",
       "      <td>0.777612</td>\n",
       "      <td>0.729594</td>\n",
       "    </tr>\n",
       "    <tr>\n",
       "      <th>10</th>\n",
       "      <td>Ridge w/ poly d=2 + scaler + alpha0.1</td>\n",
       "      <td>0.633191</td>\n",
       "      <td>0.70144</td>\n",
       "    </tr>\n",
       "  </tbody>\n",
       "</table>\n",
       "</div>"
      ],
      "text/plain": [
       "                                          model     CV_score    r2_score\n",
       "0                              LinearRegression     -334.595  0.00466197\n",
       "1                LinearRegression w/ Poly deg=2     0.123657    -9.24164\n",
       "2   LinearRegression w/ Poly deg=2, and scalers -9.68798e+22    0.783964\n",
       "3                 Lasso w/ scaler + alpha0.0001     0.776328    0.750747\n",
       "4                  Lasso w/ scaler + alpha0.001     0.778642    0.743782\n",
       "5                   Lasso w/ scaler + alpha0.01     0.777224    0.737506\n",
       "6                 Ridge w/ scaler + alpha0.0001     0.687484    0.783365\n",
       "7                  Ridge w/ scaler + alpha0.001     0.784895    0.778451\n",
       "8                   Ridge w/ scaler + alpha0.01      0.78072     0.76372\n",
       "9         Lasso w/ poly d=2 + scaler + alpha0.1     0.777612    0.729594\n",
       "10        Ridge w/ poly d=2 + scaler + alpha0.1     0.633191     0.70144"
      ]
     },
     "execution_count": 61,
     "metadata": {},
     "output_type": "execute_result"
    }
   ],
   "source": [
    "df_r2_scores"
   ]
  },
  {
   "cell_type": "markdown",
   "metadata": {},
   "source": [
    "# Use Grid Search CV"
   ]
  },
  {
   "cell_type": "code",
   "execution_count": 62,
   "metadata": {},
   "outputs": [],
   "source": [
    "from sklearn.model_selection import GridSearchCV\n",
    "\n",
    "# Same estimator as before\n",
    "estimator = Pipeline([\n",
    "        (\"polynomial_features\", PolynomialFeatures()),\n",
    "        (\"scaler\", StandardScaler()),\n",
    "        (\"ridge_regression\", Ridge())])\n",
    "\n",
    "params = {\n",
    "    'polynomial_features__degree': [1, 2],\n",
    "    'ridge_regression__alpha': [1.e-02, 1.e-01,]\n",
    "}\n",
    "\n",
    "grid = GridSearchCV(estimator, params, cv=kf)"
   ]
  },
  {
   "cell_type": "code",
   "execution_count": 63,
   "metadata": {},
   "outputs": [
    {
     "name": "stdout",
     "output_type": "stream",
     "text": [
      "0.7806335995530714 {'polynomial_features__degree': 1, 'ridge_regression__alpha': 0.01}\n"
     ]
    }
   ],
   "source": [
    "grid.fit(X_train,y_train)\n",
    "\n",
    "cv_r2 = grid.best_score_\n",
    "print(grid.best_score_, grid.best_params_)\n",
    "\n",
    "y_pred = grid.predict(X_train)\n",
    "\n",
    "r2 = r2_score(y_train, y_pred)"
   ]
  },
  {
   "cell_type": "code",
   "execution_count": 64,
   "metadata": {},
   "outputs": [
    {
     "name": "stdout",
     "output_type": "stream",
     "text": [
      "Grid_Search_CV {'polynomial_features__degree': 1, 'ridge_regression__alpha': 0.01}\n",
      "CV r2 score: 0.7806335995530714\n",
      "r2 score: 0.7999462189884023\n",
      "\n"
     ]
    }
   ],
   "source": [
    "model_selection.append('Grid_Search_CV'+str(grid.best_params_)),model_cv_score.append(grid.best_score_),model_r2_score.append(r2)\n",
    "print('Grid_Search_CV',grid.best_params_)\n",
    "print('CV r2 score:',cv_r2)\n",
    "print('r2 score:',r2)\n",
    "print()\n",
    "df_r2_scores = pd.DataFrame([model_selection,model_cv_score,model_r2_score]).T\n",
    "df_r2_scores.columns=['model','CV_score','r2_score']"
   ]
  },
  {
   "cell_type": "code",
   "execution_count": 65,
   "metadata": {},
   "outputs": [
    {
     "data": {
      "text/html": [
       "<div>\n",
       "<style scoped>\n",
       "    .dataframe tbody tr th:only-of-type {\n",
       "        vertical-align: middle;\n",
       "    }\n",
       "\n",
       "    .dataframe tbody tr th {\n",
       "        vertical-align: top;\n",
       "    }\n",
       "\n",
       "    .dataframe thead th {\n",
       "        text-align: right;\n",
       "    }\n",
       "</style>\n",
       "<table border=\"1\" class=\"dataframe\">\n",
       "  <thead>\n",
       "    <tr style=\"text-align: right;\">\n",
       "      <th></th>\n",
       "      <th>model</th>\n",
       "      <th>CV_score</th>\n",
       "      <th>r2_score</th>\n",
       "    </tr>\n",
       "  </thead>\n",
       "  <tbody>\n",
       "    <tr>\n",
       "      <th>0</th>\n",
       "      <td>LinearRegression</td>\n",
       "      <td>-334.595</td>\n",
       "      <td>0.00466197</td>\n",
       "    </tr>\n",
       "    <tr>\n",
       "      <th>1</th>\n",
       "      <td>LinearRegression w/ Poly deg=2</td>\n",
       "      <td>0.123657</td>\n",
       "      <td>-9.24164</td>\n",
       "    </tr>\n",
       "    <tr>\n",
       "      <th>2</th>\n",
       "      <td>LinearRegression w/ Poly deg=2, and scalers</td>\n",
       "      <td>-9.68798e+22</td>\n",
       "      <td>0.783964</td>\n",
       "    </tr>\n",
       "    <tr>\n",
       "      <th>3</th>\n",
       "      <td>Lasso w/ scaler + alpha0.0001</td>\n",
       "      <td>0.776328</td>\n",
       "      <td>0.750747</td>\n",
       "    </tr>\n",
       "    <tr>\n",
       "      <th>4</th>\n",
       "      <td>Lasso w/ scaler + alpha0.001</td>\n",
       "      <td>0.778642</td>\n",
       "      <td>0.743782</td>\n",
       "    </tr>\n",
       "    <tr>\n",
       "      <th>5</th>\n",
       "      <td>Lasso w/ scaler + alpha0.01</td>\n",
       "      <td>0.777224</td>\n",
       "      <td>0.737506</td>\n",
       "    </tr>\n",
       "    <tr>\n",
       "      <th>6</th>\n",
       "      <td>Ridge w/ scaler + alpha0.0001</td>\n",
       "      <td>0.687484</td>\n",
       "      <td>0.783365</td>\n",
       "    </tr>\n",
       "    <tr>\n",
       "      <th>7</th>\n",
       "      <td>Ridge w/ scaler + alpha0.001</td>\n",
       "      <td>0.784895</td>\n",
       "      <td>0.778451</td>\n",
       "    </tr>\n",
       "    <tr>\n",
       "      <th>8</th>\n",
       "      <td>Ridge w/ scaler + alpha0.01</td>\n",
       "      <td>0.78072</td>\n",
       "      <td>0.76372</td>\n",
       "    </tr>\n",
       "    <tr>\n",
       "      <th>9</th>\n",
       "      <td>Lasso w/ poly d=2 + scaler + alpha0.1</td>\n",
       "      <td>0.777612</td>\n",
       "      <td>0.729594</td>\n",
       "    </tr>\n",
       "    <tr>\n",
       "      <th>10</th>\n",
       "      <td>Ridge w/ poly d=2 + scaler + alpha0.1</td>\n",
       "      <td>0.633191</td>\n",
       "      <td>0.70144</td>\n",
       "    </tr>\n",
       "    <tr>\n",
       "      <th>11</th>\n",
       "      <td>Grid_Search_CV{'polynomial_features__degree': ...</td>\n",
       "      <td>0.780634</td>\n",
       "      <td>0.799946</td>\n",
       "    </tr>\n",
       "  </tbody>\n",
       "</table>\n",
       "</div>"
      ],
      "text/plain": [
       "                                                model     CV_score    r2_score\n",
       "0                                    LinearRegression     -334.595  0.00466197\n",
       "1                      LinearRegression w/ Poly deg=2     0.123657    -9.24164\n",
       "2         LinearRegression w/ Poly deg=2, and scalers -9.68798e+22    0.783964\n",
       "3                       Lasso w/ scaler + alpha0.0001     0.776328    0.750747\n",
       "4                        Lasso w/ scaler + alpha0.001     0.778642    0.743782\n",
       "5                         Lasso w/ scaler + alpha0.01     0.777224    0.737506\n",
       "6                       Ridge w/ scaler + alpha0.0001     0.687484    0.783365\n",
       "7                        Ridge w/ scaler + alpha0.001     0.784895    0.778451\n",
       "8                         Ridge w/ scaler + alpha0.01      0.78072     0.76372\n",
       "9               Lasso w/ poly d=2 + scaler + alpha0.1     0.777612    0.729594\n",
       "10              Ridge w/ poly d=2 + scaler + alpha0.1     0.633191     0.70144\n",
       "11  Grid_Search_CV{'polynomial_features__degree': ...     0.780634    0.799946"
      ]
     },
     "execution_count": 65,
     "metadata": {},
     "output_type": "execute_result"
    }
   ],
   "source": [
    "df_r2_scores"
   ]
  },
  {
   "cell_type": "code",
   "execution_count": 66,
   "metadata": {},
   "outputs": [
    {
     "name": "stdout",
     "output_type": "stream",
     "text": [
      "Minutes to Run: 90\n"
     ]
    }
   ],
   "source": [
    "end = datetime.now()\n",
    "print('Minutes to Run:',round((end-start).seconds/60))"
   ]
  },
  {
   "cell_type": "code",
   "execution_count": null,
   "metadata": {},
   "outputs": [],
   "source": []
  }
 ],
 "metadata": {
  "kernelspec": {
   "display_name": "Python 3",
   "language": "python",
   "name": "python3"
  },
  "language_info": {
   "codemirror_mode": {
    "name": "ipython",
    "version": 3
   },
   "file_extension": ".py",
   "mimetype": "text/x-python",
   "name": "python",
   "nbconvert_exporter": "python",
   "pygments_lexer": "ipython3",
   "version": "3.8.3"
  }
 },
 "nbformat": 4,
 "nbformat_minor": 4
}
